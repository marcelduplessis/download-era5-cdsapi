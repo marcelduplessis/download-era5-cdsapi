{
 "cells": [
  {
   "cell_type": "markdown",
   "id": "d09a019c-3783-4d28-9746-e393aa83d87f",
   "metadata": {},
   "source": [
    "### Loading ERA5 data directly from the Copernicus Data Service \n",
    "\n",
    "The goal of this notebook is to be able to access and analysis ERA5 data using cloud computing. This has the obvious advantage of not having to download and store the data on your local computer, which can quicly add up to terrabytes if you're looking for long term data.\n",
    "\n",
    "I am following an example from https://towardsdatascience.com/read-era5-directly-into-memory-with-python-511a2740bba0\n",
    "\n",
    "Variables on the single levels reanalysis can be found here: https://cds.climate.copernicus.eu/cdsapp#!/dataset/reanalysis-era5-single-levels?tab=overview"
   ]
  },
  {
   "cell_type": "code",
   "execution_count": 4,
   "id": "06b6a82a-20a2-4d57-8458-2df596072fde",
   "metadata": {},
   "outputs": [],
   "source": [
    "import sys\n",
    "sys.path.append('../functions/')\n",
    "\n",
    "import download_era5_cdsapi as dwn_era5\n",
    "import numpy as np\n",
    "import calendar"
   ]
  },
  {
   "cell_type": "markdown",
   "id": "a517b9e1-2de7-486e-aabf-f583702be1ce",
   "metadata": {},
   "source": [
    "Choose the years and months of data that you want to download, what path your downloaded data should be stored at and which ERA5 variables you want to download"
   ]
  },
  {
   "cell_type": "code",
   "execution_count": 2,
   "id": "5e40fb87-df84-4615-b093-8d97100872a6",
   "metadata": {},
   "outputs": [],
   "source": [
    "dwn_path = '/Users/xduplm/Desktop/'\n",
    "\n",
    "years = np.arange(2021, 2023, 1)\n",
    "months = np.array([12,1,2])\n",
    "\n",
    "var = [\n",
    "    # '2m_temperature',\n",
    "    '10m_u_component_of_wind',\n",
    "    '10m_v_component_of_wind',\n",
    "    # 'sea_surface_temperature',\n",
    "    # 'skin_temperature',\n",
    "    # 'surface_pressure',\n",
    "    'surface_latent_heat_flux',\n",
    "    'surface_sensible_heat_flux',\n",
    "    'surface_net_solar_radiation',\n",
    "    'surface_net_thermal_radiation',\n",
    "    # 'total_precipitation',\n",
    "    # 'evaporation'\n",
    "      ]"
   ]
  },
  {
   "cell_type": "code",
   "execution_count": null,
   "id": "d4c01666-a267-42ae-a67b-c48a07721a47",
   "metadata": {},
   "outputs": [],
   "source": [
    "for v in var:\n",
    "    \n",
    "    for year in years:\n",
    "        \n",
    "        for month in months:\n",
    "            \n",
    "            # Determine the number of days in the current month\n",
    "            num_days = calendar.monthrange(year, month)[1]\n",
    "\n",
    "            # Create a list of days using list comprehension\n",
    "            days = [f'{d:02}' for d in range(1, num_days + 1)]\n",
    "\n",
    "            # Format month as a string with leading zero if needed\n",
    "            month_str = f'{month:02}'\n",
    "\n",
    "            # Download data using your function (adjust as needed)\n",
    "            dwn_era5.download_era5_cdsapi(var=v, days=days, month=month_str, year=str(year), dataset=\"reanalysis-era5-single-levels\", path=dwn_path)\n"
   ]
  }
 ],
 "metadata": {
  "kernelspec": {
   "display_name": "Python 3 (ipykernel)",
   "language": "python",
   "name": "python3"
  },
  "language_info": {
   "codemirror_mode": {
    "name": "ipython",
    "version": 3
   },
   "file_extension": ".py",
   "mimetype": "text/x-python",
   "name": "python",
   "nbconvert_exporter": "python",
   "pygments_lexer": "ipython3",
   "version": "3.9.7"
  }
 },
 "nbformat": 4,
 "nbformat_minor": 5
}
