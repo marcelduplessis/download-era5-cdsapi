{
 "cells": [
  {
   "cell_type": "markdown",
   "id": "d09a019c-3783-4d28-9746-e393aa83d87f",
   "metadata": {},
   "source": [
    "### Loading ERA5 data directly from the Copernicus Data Service \n",
    "\n",
    "The goal of this notebook is to be able to access and analysis ERA5 data using cloud computing. This has the obvious advantage of not having to download and store the data on your local computer, which can quicly add up to terrabytes if you're looking for long term data.\n",
    "\n",
    "I am following an example from https://towardsdatascience.com/read-era5-directly-into-memory-with-python-511a2740bba0\n",
    "\n",
    "Variables on the single levels reanalysis can be found here: https://cds.climate.copernicus.eu/cdsapp#!/dataset/reanalysis-era5-single-levels?tab=overview\n",
    "\n",
    "Let's see how we go:"
   ]
  },
  {
   "cell_type": "code",
   "execution_count": 1,
   "id": "06b6a82a-20a2-4d57-8458-2df596072fde",
   "metadata": {},
   "outputs": [],
   "source": [
    "import cdsapi\n",
    "import xarray as xr\n",
    "from urllib.request import urlopen# start the client"
   ]
  },
  {
   "cell_type": "code",
   "execution_count": 2,
   "id": "62337f93-96c8-4262-9eb5-3ec36137732e",
   "metadata": {},
   "outputs": [],
   "source": [
    "import certifi\n",
    "import urllib3\n",
    "http = urllib3.PoolManager(\n",
    "    cert_reqs='CERT_REQUIRED',\n",
    "    ca_certs=certifi.where()\n",
    ")"
   ]
  },
  {
   "cell_type": "code",
   "execution_count": 3,
   "id": "eae8cd57-a74e-48de-92a7-ace86d92fe62",
   "metadata": {},
   "outputs": [],
   "source": [
    "cds = cdsapi.Client()# dataset you want to read"
   ]
  },
  {
   "cell_type": "code",
   "execution_count": 162,
   "id": "98423432-9c17-4009-8dfc-2cefadd25e6d",
   "metadata": {},
   "outputs": [
    {
     "name": "stderr",
     "output_type": "stream",
     "text": [
      "/Users/marcel/opt/anaconda3/lib/python3.8/site-packages/urllib3/connectionpool.py:1013: InsecureRequestWarning: Unverified HTTPS request is being made to host 'cds.climate.copernicus.eu'. Adding certificate verification is strongly advised. See: https://urllib3.readthedocs.io/en/1.26.x/advanced-usage.html#ssl-warnings\n",
      "  warnings.warn(\n",
      "2021-10-21 11:56:37,994 INFO Welcome to the CDS\n",
      "2021-10-21 11:56:37,996 INFO Sending request to https://cds.climate.copernicus.eu/api/v2/resources/reanalysis-era5-single-levels\n",
      "/Users/marcel/opt/anaconda3/lib/python3.8/site-packages/urllib3/connectionpool.py:1013: InsecureRequestWarning: Unverified HTTPS request is being made to host 'cds.climate.copernicus.eu'. Adding certificate verification is strongly advised. See: https://urllib3.readthedocs.io/en/1.26.x/advanced-usage.html#ssl-warnings\n",
      "  warnings.warn(\n",
      "2021-10-21 11:56:38,070 INFO Request is queued\n",
      "/Users/marcel/opt/anaconda3/lib/python3.8/site-packages/urllib3/connectionpool.py:1013: InsecureRequestWarning: Unverified HTTPS request is being made to host 'cds.climate.copernicus.eu'. Adding certificate verification is strongly advised. See: https://urllib3.readthedocs.io/en/1.26.x/advanced-usage.html#ssl-warnings\n",
      "  warnings.warn(\n",
      "/Users/marcel/opt/anaconda3/lib/python3.8/site-packages/urllib3/connectionpool.py:1013: InsecureRequestWarning: Unverified HTTPS request is being made to host 'cds.climate.copernicus.eu'. Adding certificate verification is strongly advised. See: https://urllib3.readthedocs.io/en/1.26.x/advanced-usage.html#ssl-warnings\n",
      "  warnings.warn(\n",
      "/Users/marcel/opt/anaconda3/lib/python3.8/site-packages/urllib3/connectionpool.py:1013: InsecureRequestWarning: Unverified HTTPS request is being made to host 'cds.climate.copernicus.eu'. Adding certificate verification is strongly advised. See: https://urllib3.readthedocs.io/en/1.26.x/advanced-usage.html#ssl-warnings\n",
      "  warnings.warn(\n",
      "/Users/marcel/opt/anaconda3/lib/python3.8/site-packages/urllib3/connectionpool.py:1013: InsecureRequestWarning: Unverified HTTPS request is being made to host 'cds.climate.copernicus.eu'. Adding certificate verification is strongly advised. See: https://urllib3.readthedocs.io/en/1.26.x/advanced-usage.html#ssl-warnings\n",
      "  warnings.warn(\n",
      "/Users/marcel/opt/anaconda3/lib/python3.8/site-packages/urllib3/connectionpool.py:1013: InsecureRequestWarning: Unverified HTTPS request is being made to host 'cds.climate.copernicus.eu'. Adding certificate verification is strongly advised. See: https://urllib3.readthedocs.io/en/1.26.x/advanced-usage.html#ssl-warnings\n",
      "  warnings.warn(\n",
      "/Users/marcel/opt/anaconda3/lib/python3.8/site-packages/urllib3/connectionpool.py:1013: InsecureRequestWarning: Unverified HTTPS request is being made to host 'cds.climate.copernicus.eu'. Adding certificate verification is strongly advised. See: https://urllib3.readthedocs.io/en/1.26.x/advanced-usage.html#ssl-warnings\n",
      "  warnings.warn(\n",
      "/Users/marcel/opt/anaconda3/lib/python3.8/site-packages/urllib3/connectionpool.py:1013: InsecureRequestWarning: Unverified HTTPS request is being made to host 'cds.climate.copernicus.eu'. Adding certificate verification is strongly advised. See: https://urllib3.readthedocs.io/en/1.26.x/advanced-usage.html#ssl-warnings\n",
      "  warnings.warn(\n",
      "/Users/marcel/opt/anaconda3/lib/python3.8/site-packages/urllib3/connectionpool.py:1013: InsecureRequestWarning: Unverified HTTPS request is being made to host 'cds.climate.copernicus.eu'. Adding certificate verification is strongly advised. See: https://urllib3.readthedocs.io/en/1.26.x/advanced-usage.html#ssl-warnings\n",
      "  warnings.warn(\n",
      "2021-10-21 11:57:27,712 INFO Request is running\n",
      "/Users/marcel/opt/anaconda3/lib/python3.8/site-packages/urllib3/connectionpool.py:1013: InsecureRequestWarning: Unverified HTTPS request is being made to host 'cds.climate.copernicus.eu'. Adding certificate verification is strongly advised. See: https://urllib3.readthedocs.io/en/1.26.x/advanced-usage.html#ssl-warnings\n",
      "  warnings.warn(\n",
      "/Users/marcel/opt/anaconda3/lib/python3.8/site-packages/urllib3/connectionpool.py:1013: InsecureRequestWarning: Unverified HTTPS request is being made to host 'cds.climate.copernicus.eu'. Adding certificate verification is strongly advised. See: https://urllib3.readthedocs.io/en/1.26.x/advanced-usage.html#ssl-warnings\n",
      "  warnings.warn(\n",
      "2021-10-21 11:58:31,887 INFO Request is completed\n",
      "/Users/marcel/opt/anaconda3/lib/python3.8/site-packages/urllib3/connectionpool.py:1013: InsecureRequestWarning: Unverified HTTPS request is being made to host 'cds.climate.copernicus.eu'. Adding certificate verification is strongly advised. See: https://urllib3.readthedocs.io/en/1.26.x/advanced-usage.html#ssl-warnings\n",
      "  warnings.warn(\n",
      "2021-10-21 11:58:31,949 INFO Downloading https://download-0012.copernicus-climate.eu/cache-compute-0012/cache/data9/adaptor.mars.internal-1634810268.7983465-4977-9-0a015e80-0fb9-4535-9ffa-a21da167920c.nc to ../data/era5_airT_032019.nc (214.2M)\n",
      "/Users/marcel/opt/anaconda3/lib/python3.8/site-packages/urllib3/connectionpool.py:1013: InsecureRequestWarning: Unverified HTTPS request is being made to host 'download-0012.copernicus-climate.eu'. Adding certificate verification is strongly advised. See: https://urllib3.readthedocs.io/en/1.26.x/advanced-usage.html#ssl-warnings\n",
      "  warnings.warn(\n",
      "2021-10-21 11:59:03,743 INFO Download rate 6.7M/s                               \n"
     ]
    }
   ],
   "source": [
    "output_name = 'era5_airT_032019.nc'\n",
    "\n",
    "dataset = \"reanalysis-era5-single-levels\"# flag to download data\n",
    "download_flag = True # api parameters \n",
    "params = {\n",
    "          'variable': [\n",
    "                       '2m_temperature',\n",
    "#                        '10m_u_component_of_wind',\n",
    "#                        '10m_v_component_of_wind',\n",
    "#                        'sea_surface_temperature',\n",
    "#                        'skin_temperature',\n",
    "#                        'surface_pressure',\n",
    "#                        'surface_latent_heat_flux',\n",
    "#                        'surface_sensible_heat_flux',\n",
    "#                        'surface_net_solar_radiation',\n",
    "#                        'surface_net_thermal_radiation',\n",
    "#                        'total_precipitation',\n",
    "#                        'evaporation'\n",
    "                      ],\n",
    "          'product_type': 'reanalysis',\n",
    "          'year': [\n",
    "              '2019'\n",
    "          ],\n",
    "          'month': [\n",
    "              '03'\n",
    "          ],\n",
    "          'day': [\n",
    "              '01', '02', '03', '04', '05', '06',\n",
    "              '07', '08', '09', \n",
    "#               '10', '11', '12',\n",
    "#               '13', '14', '15', '16', '17', '18',\n",
    "#               '19', '20', '21', '22', '23', '24',\n",
    "#               '25', '26', '27', '28', '29', '30',\n",
    "#               '31'\n",
    "          ],\n",
    "          'time': [\n",
    "                   '00:00', '01:00', '02:00', '03:00', '04:00', '05:00', '06:00',\n",
    "                   '07:00', '08:00', '09:00', '10:00', '11:00', '12:00', '13:00',\n",
    "                   '14:00', '15:00', '16:00', '17:00', '18:00', '19:00', '20:00',\n",
    "                   '21:00', '22:00', '23:00'\n",
    "                  ],\n",
    "          'area': [\n",
    "                   '0', '0', '-90', '360'\n",
    "                  ],\n",
    "          'format': 'netcdf'\n",
    "         }\n",
    "\n",
    "fl = cds.retrieve(dataset, params)# download the file \n",
    "\n",
    "if download_flag:\n",
    "    fl.download(\"../data/\"+str(output_name))# load into memory\n",
    "\n",
    "with urlopen(fl.location) as f:\n",
    "    ds = xr.open_dataset(f.read())"
   ]
  },
  {
   "cell_type": "code",
   "execution_count": null,
   "id": "2f6940f8-09ba-4902-9d8d-ee582e3d36f9",
   "metadata": {},
   "outputs": [],
   "source": []
  }
 ],
 "metadata": {
  "kernelspec": {
   "display_name": "Python 3 (ipykernel)",
   "language": "python",
   "name": "python3"
  },
  "language_info": {
   "codemirror_mode": {
    "name": "ipython",
    "version": 3
   },
   "file_extension": ".py",
   "mimetype": "text/x-python",
   "name": "python",
   "nbconvert_exporter": "python",
   "pygments_lexer": "ipython3",
   "version": "3.8.8"
  }
 },
 "nbformat": 4,
 "nbformat_minor": 5
}
